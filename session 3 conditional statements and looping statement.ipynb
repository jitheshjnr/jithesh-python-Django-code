{
 "cells": [
  {
   "cell_type": "code",
   "execution_count": null,
   "metadata": {},
   "outputs": [],
   "source": [
    "if\n",
    "elif\n",
    "else"
   ]
  },
  {
   "cell_type": "code",
   "execution_count": null,
   "metadata": {},
   "outputs": [],
   "source": [
    "= => assignment\n",
    "== => comparison"
   ]
  },
  {
   "cell_type": "code",
   "execution_count": 1,
   "metadata": {},
   "outputs": [
    {
     "name": "stdout",
     "output_type": "stream",
     "text": [
      "num2 is greater here\n"
     ]
    }
   ],
   "source": [
    "num1 = 200                                      \n",
    "num2 = 400\n",
    "if num1 > num2:\n",
    "    print(\"num1 is greater here\")\n",
    "elif num2 > num1:\n",
    "    print(\"num2 is greater here\")\n",
    "else:\n",
    "    print(\"both are equal\")"
   ]
  },
  {
   "cell_type": "code",
   "execution_count": null,
   "metadata": {},
   "outputs": [],
   "source": [
    "True/False\n",
    "logical operatotrs\n",
    "comparision\n",
    "membership\n",
    "identity"
   ]
  },
  {
   "cell_type": "code",
   "execution_count": null,
   "metadata": {},
   "outputs": [],
   "source": [
    "it has to be space indentation is required here(PEP8)"
   ]
  },
  {
   "cell_type": "code",
   "execution_count": 2,
   "metadata": {},
   "outputs": [
    {
     "name": "stdout",
     "output_type": "stream",
     "text": [
      "consonent\n"
     ]
    }
   ],
   "source": [
    "#let take a char it mean single word/letter/num               #\"vowel\"/\"consonent\"\n",
    "char = \"y\"\n",
    "if char in \"aeiou\":\n",
    "    print(\"vowel\")\n",
    "else:\n",
    "    print(\"consonent\")"
   ]
  },
  {
   "cell_type": "code",
   "execution_count": 3,
   "metadata": {},
   "outputs": [
    {
     "name": "stdout",
     "output_type": "stream",
     "text": [
      "python\n"
     ]
    }
   ],
   "source": [
    "#any non zero value is true in python\n",
    "#any zero value is false in python \n",
    "if 0:\n",
    "    print(\"true\")\n",
    "else:\n",
    "    print(\"python\")"
   ]
  },
  {
   "cell_type": "code",
   "execution_count": null,
   "metadata": {},
   "outputs": [],
   "source": [
    "if [condition]:\n",
    "    statements\n",
    "elif [condition]:\n",
    "    statement\n",
    "else:"
   ]
  },
  {
   "cell_type": "code",
   "execution_count": 4,
   "metadata": {},
   "outputs": [
    {
     "name": "stdout",
     "output_type": "stream",
     "text": [
      "list is not empty\n"
     ]
    }
   ],
   "source": [
    "l = [10,29]\n",
    "if l:\n",
    "    print(\"list is not empty\")\n",
    "else:\n",
    "    print(\"list is empty\")"
   ]
  },
  {
   "cell_type": "code",
   "execution_count": null,
   "metadata": {},
   "outputs": [],
   "source": [
    "PEP 8 => To get the length of the list use len()\n",
    "    cntl + / will comment all"
   ]
  },
  {
   "cell_type": "code",
   "execution_count": 8,
   "metadata": {},
   "outputs": [
    {
     "name": "stdout",
     "output_type": "stream",
     "text": [
      "list is not empty\n"
     ]
    }
   ],
   "source": [
    "#to find the length                 #print(len(l))\n",
    "l = [10,20,30]\n",
    "if (len(l)) > 0:    \n",
    "    print(\"list is not empty\")\n",
    "else:\n",
    "    print(\"list is empty\")\n",
    "\n"
   ]
  },
  {
   "cell_type": "code",
   "execution_count": 9,
   "metadata": {},
   "outputs": [
    {
     "name": "stdout",
     "output_type": "stream",
     "text": [
      "a is present\n"
     ]
    }
   ],
   "source": [
    "s = \" python sample string\"\n",
    "if \"a\"in s:\n",
    "    print(\"a is present\")\n",
    "else:\n",
    "    print(\"a is not present\")"
   ]
  },
  {
   "cell_type": "code",
   "execution_count": 16,
   "metadata": {},
   "outputs": [
    {
     "name": "stdout",
     "output_type": "stream",
     "text": [
      "pass\n"
     ]
    }
   ],
   "source": [
    "marks_obtained = 300\n",
    "total_marks = 600\n",
    "passing_per = 40\n",
    "percentage = (marks_obtained / total_marks)*100\n",
    "if percentage > passing_per:\n",
    "    print(\"pass\")\n",
    "else:\n",
    "    print(\"fail\")\n"
   ]
  },
  {
   "cell_type": "code",
   "execution_count": 17,
   "metadata": {},
   "outputs": [
    {
     "name": "stdout",
     "output_type": "stream",
     "text": [
      "odd\n"
     ]
    }
   ],
   "source": [
    "num1 = 20\n",
    "if num1 / 2 == 0:\n",
    "   print(\"even\")\n",
    "else:\n",
    "    print(\"odd\")"
   ]
  },
  {
   "cell_type": "code",
   "execution_count": 19,
   "metadata": {},
   "outputs": [
    {
     "name": "stdout",
     "output_type": "stream",
     "text": [
      "notes of 1000 are 5\n",
      "notes of 500 are 1\n",
      "can not issue the note of 100\n",
      "notes of 50 are 1\n",
      "can not issue the note of 10\n"
     ]
    }
   ],
   "source": [
    "currencies = 1000,500,100,50,10\n",
    "amount = 5550\n",
    "if amount >= 1000:\n",
    "    print(\"notes of 1000 are\",amount // 1000)\n",
    "    amount = amount % 1000\n",
    "else:\n",
    "    print(\"can not issue note of 1000\")\n",
    "if amount >= 500:\n",
    "    print(\"notes of 500 are\",amount // 500)\n",
    "    amount = amount % 500\n",
    "else:\n",
    "    print(\"can not issue note of 500\")\n",
    "if amount >= 100:\n",
    "    print(\"notes of 100 are\",amount // 100)\n",
    "    amount = amount % 100\n",
    "else:\n",
    "    print(\"can not issue the note of 100\")\n",
    "if amount >= 50:\n",
    "    print(\"notes of 50 are\",amount // 50)\n",
    "    amount = amount % 50\n",
    "else:\n",
    "    print(\"can not issue the note of 50\")\n",
    "if amount >= 10:\n",
    "    print(\"notes of 10 are\",amount // 10)\n",
    "    amount = amount % 10\n",
    "else:\n",
    "    print(\"can not issue the note of 10\")"
   ]
  },
  {
   "cell_type": "code",
   "execution_count": 22,
   "metadata": {},
   "outputs": [
    {
     "name": "stdout",
     "output_type": "stream",
     "text": [
      "600.0\n"
     ]
    }
   ],
   "source": [
    "#rating = (1 - 3)\n",
    "#tip % of total bill\n",
    "#1 100\n",
    "#2 200\n",
    "#3 300\n",
    "\n",
    "\n",
    "rating = 2\n",
    "bill_amount = 500\n",
    "tip = bill_amount * (rating * 10) / 100\n",
    "final_amount = bill_amount + tip\n",
    "print(final_amount)\n"
   ]
  },
  {
   "cell_type": "code",
   "execution_count": null,
   "metadata": {},
   "outputs": [],
   "source": [
    "over view"
   ]
  },
  {
   "cell_type": "code",
   "execution_count": null,
   "metadata": {},
   "outputs": [],
   "source": [
    "\n",
    "f \"Python\" :\n",
    "    print(\"Java\")\n",
    "else:\n",
    "    print(\"Python\")\n",
    "    "
   ]
  },
  {
   "cell_type": "code",
   "execution_count": null,
   "metadata": {},
   "outputs": [],
   "source": [
    "0 False None \"\" [] {} ()"
   ]
  }
 ],
 "metadata": {
  "kernelspec": {
   "display_name": "Python 3",
   "language": "python",
   "name": "python3"
  },
  "language_info": {
   "codemirror_mode": {
    "name": "ipython",
    "version": 3
   },
   "file_extension": ".py",
   "mimetype": "text/x-python",
   "name": "python",
   "nbconvert_exporter": "python",
   "pygments_lexer": "ipython3",
   "version": "3.7.4"
  }
 },
 "nbformat": 4,
 "nbformat_minor": 2
}
