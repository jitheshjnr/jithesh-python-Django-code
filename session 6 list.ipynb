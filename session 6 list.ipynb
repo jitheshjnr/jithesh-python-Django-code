{
 "cells": [
  {
   "cell_type": "code",
   "execution_count": null,
   "metadata": {},
   "outputs": [],
   "source": [
    "lists: \n",
    "    lists are mutable we can performe => add,update,delete \n",
    "    lists are ordered we can performe => indexing and slicing   #slicing mean we extract sub string frm main string\n",
    "    lists are heterogenious [10,20.\"jithu\",[11,12]]\n",
    "    "
   ]
  },
  {
   "cell_type": "code",
   "execution_count": 4,
   "metadata": {},
   "outputs": [
    {
     "name": "stdout",
     "output_type": "stream",
     "text": [
      "10\n",
      "[100, 200]\n",
      "jithu\n"
     ]
    }
   ],
   "source": [
    "l = [10,20,\"jithu\",30,40,[100,200]]\n",
    "print(l[0])\n",
    "print(l[-1])\n",
    "print(l[2])"
   ]
  },
  {
   "cell_type": "code",
   "execution_count": 10,
   "metadata": {},
   "outputs": [
    {
     "name": "stdout",
     "output_type": "stream",
     "text": [
      "100\n",
      "100\n"
     ]
    }
   ],
   "source": [
    "l = [10,20,\"jithu\",30,40,[100,200]]     #two possiblities are there to perform the operation one is RL and LR\n",
    "print(l[5][0])\n",
    "print(l[-1][0])"
   ]
  },
  {
   "cell_type": "code",
   "execution_count": 38,
   "metadata": {},
   "outputs": [
    {
     "name": "stdout",
     "output_type": "stream",
     "text": [
      "[100, 200, ['jithu'], [1000, 2000]]\n",
      "[1000, 2000]\n",
      "2000\n",
      "['jithu']\n"
     ]
    }
   ],
   "source": [
    "l = [10,20,30,40,[100,200,[\"jithu\"],[1000,2000]]]\n",
    "print(l[-1])\n",
    "print(l[-1][-1])\n",
    "print(l[-1][-1][-1])\n",
    "print(l[-1][-2])\n",
    "\n"
   ]
  },
  {
   "cell_type": "code",
   "execution_count": 46,
   "metadata": {},
   "outputs": [
    {
     "name": "stdout",
     "output_type": "stream",
     "text": [
      "[20, 30, 40, [100, 200, 300, [1000, 2000, 3000, 4000]]]\n",
      "[[100, 200, 300, [1000, 2000, 3000, 4000]], 40, 30, 20, 10]\n",
      "[2000, 1000]\n"
     ]
    }
   ],
   "source": [
    "l = [10,20,30,40,[100,200,300,[1000,2000,3000,4000]]]\n",
    "print(l[1:])\n",
    "print(l[::-1])\n",
    "print(l[-1][-1][1::-1])     #if silce is -ve stride is frm RF\n"
   ]
  },
  {
   "cell_type": "code",
   "execution_count": null,
   "metadata": {},
   "outputs": [],
   "source": [
    "Add/Update/Delete\n",
    "\n",
    "Add: \n",
    "    append             #it will not provide any out put back it will only add the given fun/add at the end of the list\n",
    "    extend             #we can add only one element at a time/we can add as a list at the end it dump as a list \n",
    "    insert\n"
   ]
  },
  {
   "cell_type": "code",
   "execution_count": 49,
   "metadata": {},
   "outputs": [
    {
     "name": "stdout",
     "output_type": "stream",
     "text": [
      "['jithu', 'C', 'C++', 'java', 'gagan']\n",
      "2741322982280\n"
     ]
    }
   ],
   "source": [
    "l = [\"jithu\",\"C\",\"C++\",\"java\"]\n",
    "l.append(\"gagan\") \n",
    "print(l)\n",
    "print(id(l))     "
   ]
  },
  {
   "cell_type": "code",
   "execution_count": 56,
   "metadata": {},
   "outputs": [
    {
     "name": "stdout",
     "output_type": "stream",
     "text": [
      "['pavan', 'python', 'gagan', 'jithu', 'python']\n"
     ]
    }
   ],
   "source": [
    "l = [\"pavan\",\"python\",\"gagan\"]\n",
    "l2 = (\"jithu\",\"python\")\n",
    "l.extend(l2)                # it is used to add multipal data at the end of the list it only take iterable data type\n",
    "print(l)"
   ]
  },
  {
   "cell_type": "code",
   "execution_count": null,
   "metadata": {},
   "outputs": [],
   "source": [
    "range(50)=> 0.......49\n",
    "range(10,15)=>10.....14\n",
    "range(10,15,2)=>10....12"
   ]
  },
  {
   "cell_type": "code",
   "execution_count": 57,
   "metadata": {},
   "outputs": [
    {
     "name": "stdout",
     "output_type": "stream",
     "text": [
      "97 122\n",
      "65 90\n"
     ]
    }
   ],
   "source": [
    "print(ord('a'),ord('z'))   #in lower case the range value starts from 97----122\n",
    "print(ord('A'),ord('Z'))   # in upper case 65-----90"
   ]
  },
  {
   "cell_type": "code",
   "execution_count": 59,
   "metadata": {},
   "outputs": [
    {
     "name": "stdout",
     "output_type": "stream",
     "text": [
      "a z\n",
      "A Z\n"
     ]
    }
   ],
   "source": [
    "print(chr(97),chr(122))   \n",
    "print(chr(65),chr(90))   "
   ]
  },
  {
   "cell_type": "code",
   "execution_count": 70,
   "metadata": {},
   "outputs": [
    {
     "name": "stdout",
     "output_type": "stream",
     "text": [
      "['a', 'b', 'c', 'd', 'e', 'f', 'g', 'h', 'i', 'j', 'k', 'l', 'm', 'n', 'o', 'p', 'q', 'r', 's', 't', 'u', 'v', 'w', 'x', 'y', 'z']\n"
     ]
    }
   ],
   "source": [
    "alpha = []               #alpha = \"a\"...........\"z\"\n",
    "start = 'a'\n",
    "end = 'z'\n",
    "\n",
    "\n",
    "for value in range(ord(start),ord(end)+1):\n",
    "    alpha.append(chr(value))\n",
    "print(alpha)"
   ]
  },
  {
   "cell_type": "code",
   "execution_count": 72,
   "metadata": {},
   "outputs": [
    {
     "name": "stdout",
     "output_type": "stream",
     "text": [
      "[1, 2, 3, 4, 5, 6, 7, 8, 9]\n"
     ]
    }
   ],
   "source": [
    "l1 = [[1,2,3],[4,5,6],[7,8,9]]\n",
    "l2 = []\n",
    "#we want to add[1,2,3,4,5,6,7,8,9]\n",
    "for value in l1:\n",
    "    l2.extend(value)\n",
    "print (l2)"
   ]
  },
  {
   "cell_type": "code",
   "execution_count": 73,
   "metadata": {},
   "outputs": [
    {
     "name": "stdout",
     "output_type": "stream",
     "text": [
      "[[1, 2, 3], [4, 5, 6], [7, 8, 9]]\n"
     ]
    }
   ],
   "source": [
    "l1 = [[1,2,3],[4,5,6],[7,8,9]]\n",
    "l2 = []\n",
    "#we want to add[1,2,3,4,5,6,7,8,9]\n",
    "for value in l1:\n",
    "    l2.append(value)                                            \n",
    "print (l2)"
   ]
  },
  {
   "cell_type": "code",
   "execution_count": 79,
   "metadata": {},
   "outputs": [
    {
     "name": "stdout",
     "output_type": "stream",
     "text": [
      "[1, 2, 3, 4, 5, 6, 7, 8, 9, 10, 11, 12, 100, 200, 300, 400, 500, 600, 700, 800, 900, 1000, 1100, 1200, 101, 102, 103, 404, 505, 606, 707, 808, 909]\n"
     ]
    }
   ],
   "source": [
    "l1 = [[1,2,3],[4,5,6],[7,8,9],[10,11,12]]\n",
    "l2 = [[100,200,300],[400,500,600],[700,800,900],[1000,1100,1200]]\n",
    "l3 = [[101,102,103],[404,505,606],[707,808,909]]\n",
    "l4 = []\n",
    "l5 = []\n",
    "\n",
    "for value in l1:\n",
    "    l4.append(value)\n",
    "for value in l2:\n",
    "    l4.append(value)\n",
    "for value in l3:\n",
    "    l4.append(value)\n",
    "for value in l4:\n",
    "    l5.extend(value)\n",
    "print(l5)    \n",
    "   "
   ]
  },
  {
   "cell_type": "code",
   "execution_count": 90,
   "metadata": {},
   "outputs": [
    {
     "name": "stdout",
     "output_type": "stream",
     "text": [
      "17\n",
      "t\n"
     ]
    }
   ],
   "source": [
    "s = \"aaaaaddddssssgggggcccccccjjjjjnnnnnnnnnnhggttreddfgggggggggg\"\n",
    "print(s.count(\"g\"))\n",
    "print(max(s))"
   ]
  },
  {
   "cell_type": "code",
   "execution_count": 92,
   "metadata": {},
   "outputs": [
    {
     "name": "stdout",
     "output_type": "stream",
     "text": [
      "[10, 20, 30, 40, 3]\n"
     ]
    }
   ],
   "source": [
    "l = [10,20,30,40]\n",
    "l.insert(4,3)\n",
    "print(l)"
   ]
  },
  {
   "cell_type": "code",
   "execution_count": 95,
   "metadata": {},
   "outputs": [
    {
     "name": "stdout",
     "output_type": "stream",
     "text": [
      "[1, 2, 300, 4, 5]\n"
     ]
    }
   ],
   "source": [
    "l = [1,2,3,4,5]\n",
    "l[2] = 300              # repleacing the value into the index position\n",
    "print(l)"
   ]
  },
  {
   "cell_type": "code",
   "execution_count": null,
   "metadata": {},
   "outputs": [],
   "source": [
    "delete:\n",
    "    pop => returns the element which is removed,if it is empty list it default remove the last element\n",
    "    remove => it will not return anything\n",
    "    clear => remove all the element and list will be empty\n",
    "    del => del the ref of the list"
   ]
  },
  {
   "cell_type": "code",
   "execution_count": 97,
   "metadata": {},
   "outputs": [
    {
     "name": "stdout",
     "output_type": "stream",
     "text": [
      "3 [1, 2, 4, 5, 6]\n"
     ]
    }
   ],
   "source": [
    "l = [1,2,3,4,5,6]\n",
    "r = l.pop(2)            # pop mean it remove the element present at the index\n",
    "print(r,l)"
   ]
  },
  {
   "cell_type": "code",
   "execution_count": 99,
   "metadata": {},
   "outputs": [
    {
     "name": "stdout",
     "output_type": "stream",
     "text": [
      "[20, 30, 50, 60]\n"
     ]
    }
   ],
   "source": [
    "l = [20,30,40,50,60]\n",
    "l.remove(40)\n",
    "print(l)"
   ]
  },
  {
   "cell_type": "code",
   "execution_count": 102,
   "metadata": {},
   "outputs": [
    {
     "name": "stdout",
     "output_type": "stream",
     "text": [
      "[]\n"
     ]
    }
   ],
   "source": [
    "l = [1,2,3,4,5,6]\n",
    "l.clear()\n",
    "print(l)"
   ]
  },
  {
   "cell_type": "code",
   "execution_count": 103,
   "metadata": {},
   "outputs": [
    {
     "ename": "NameError",
     "evalue": "name 'l' is not defined",
     "output_type": "error",
     "traceback": [
      "\u001b[1;31m---------------------------------------------------------------------------\u001b[0m",
      "\u001b[1;31mNameError\u001b[0m                                 Traceback (most recent call last)",
      "\u001b[1;32m<ipython-input-103-a011b7b355ea>\u001b[0m in \u001b[0;36m<module>\u001b[1;34m\u001b[0m\n\u001b[0;32m      1\u001b[0m \u001b[0ml\u001b[0m \u001b[1;33m=\u001b[0m \u001b[1;33m[\u001b[0m\u001b[1;36m1\u001b[0m\u001b[1;33m,\u001b[0m\u001b[1;36m2\u001b[0m\u001b[1;33m,\u001b[0m\u001b[1;36m3\u001b[0m\u001b[1;33m,\u001b[0m\u001b[1;36m4\u001b[0m\u001b[1;33m,\u001b[0m\u001b[1;36m5\u001b[0m\u001b[1;33m]\u001b[0m\u001b[1;33m\u001b[0m\u001b[1;33m\u001b[0m\u001b[0m\n\u001b[0;32m      2\u001b[0m \u001b[1;32mdel\u001b[0m \u001b[0ml\u001b[0m\u001b[1;33m\u001b[0m\u001b[1;33m\u001b[0m\u001b[0m\n\u001b[1;32m----> 3\u001b[1;33m \u001b[0mprint\u001b[0m\u001b[1;33m(\u001b[0m\u001b[0ml\u001b[0m\u001b[1;33m)\u001b[0m\u001b[1;33m\u001b[0m\u001b[1;33m\u001b[0m\u001b[0m\n\u001b[0m",
      "\u001b[1;31mNameError\u001b[0m: name 'l' is not defined"
     ]
    }
   ],
   "source": [
    "l = [1,2,3,4,5]\n",
    "del l\n",
    "print(l)"
   ]
  },
  {
   "cell_type": "code",
   "execution_count": 104,
   "metadata": {},
   "outputs": [
    {
     "name": "stdout",
     "output_type": "stream",
     "text": [
      "['__add__', '__class__', '__contains__', '__delattr__', '__delitem__', '__dir__', '__doc__', '__eq__', '__format__', '__ge__', '__getattribute__', '__getitem__', '__gt__', '__hash__', '__iadd__', '__imul__', '__init__', '__init_subclass__', '__iter__', '__le__', '__len__', '__lt__', '__mul__', '__ne__', '__new__', '__reduce__', '__reduce_ex__', '__repr__', '__reversed__', '__rmul__', '__setattr__', '__setitem__', '__sizeof__', '__str__', '__subclasshook__', 'append', 'clear', 'copy', 'count', 'extend', 'index', 'insert', 'pop', 'remove', 'reverse', 'sort']\n"
     ]
    }
   ],
   "source": [
    "print(dir(list))"
   ]
  },
  {
   "cell_type": "code",
   "execution_count": 105,
   "metadata": {},
   "outputs": [
    {
     "name": "stdout",
     "output_type": "stream",
     "text": [
      "Help on class list in module builtins:\n",
      "\n",
      "class list(object)\n",
      " |  list(iterable=(), /)\n",
      " |  \n",
      " |  Built-in mutable sequence.\n",
      " |  \n",
      " |  If no argument is given, the constructor creates a new empty list.\n",
      " |  The argument must be an iterable if specified.\n",
      " |  \n",
      " |  Methods defined here:\n",
      " |  \n",
      " |  __add__(self, value, /)\n",
      " |      Return self+value.\n",
      " |  \n",
      " |  __contains__(self, key, /)\n",
      " |      Return key in self.\n",
      " |  \n",
      " |  __delitem__(self, key, /)\n",
      " |      Delete self[key].\n",
      " |  \n",
      " |  __eq__(self, value, /)\n",
      " |      Return self==value.\n",
      " |  \n",
      " |  __ge__(self, value, /)\n",
      " |      Return self>=value.\n",
      " |  \n",
      " |  __getattribute__(self, name, /)\n",
      " |      Return getattr(self, name).\n",
      " |  \n",
      " |  __getitem__(...)\n",
      " |      x.__getitem__(y) <==> x[y]\n",
      " |  \n",
      " |  __gt__(self, value, /)\n",
      " |      Return self>value.\n",
      " |  \n",
      " |  __iadd__(self, value, /)\n",
      " |      Implement self+=value.\n",
      " |  \n",
      " |  __imul__(self, value, /)\n",
      " |      Implement self*=value.\n",
      " |  \n",
      " |  __init__(self, /, *args, **kwargs)\n",
      " |      Initialize self.  See help(type(self)) for accurate signature.\n",
      " |  \n",
      " |  __iter__(self, /)\n",
      " |      Implement iter(self).\n",
      " |  \n",
      " |  __le__(self, value, /)\n",
      " |      Return self<=value.\n",
      " |  \n",
      " |  __len__(self, /)\n",
      " |      Return len(self).\n",
      " |  \n",
      " |  __lt__(self, value, /)\n",
      " |      Return self<value.\n",
      " |  \n",
      " |  __mul__(self, value, /)\n",
      " |      Return self*value.\n",
      " |  \n",
      " |  __ne__(self, value, /)\n",
      " |      Return self!=value.\n",
      " |  \n",
      " |  __repr__(self, /)\n",
      " |      Return repr(self).\n",
      " |  \n",
      " |  __reversed__(self, /)\n",
      " |      Return a reverse iterator over the list.\n",
      " |  \n",
      " |  __rmul__(self, value, /)\n",
      " |      Return value*self.\n",
      " |  \n",
      " |  __setitem__(self, key, value, /)\n",
      " |      Set self[key] to value.\n",
      " |  \n",
      " |  __sizeof__(self, /)\n",
      " |      Return the size of the list in memory, in bytes.\n",
      " |  \n",
      " |  append(self, object, /)\n",
      " |      Append object to the end of the list.\n",
      " |  \n",
      " |  clear(self, /)\n",
      " |      Remove all items from list.\n",
      " |  \n",
      " |  copy(self, /)\n",
      " |      Return a shallow copy of the list.\n",
      " |  \n",
      " |  count(self, value, /)\n",
      " |      Return number of occurrences of value.\n",
      " |  \n",
      " |  extend(self, iterable, /)\n",
      " |      Extend list by appending elements from the iterable.\n",
      " |  \n",
      " |  index(self, value, start=0, stop=9223372036854775807, /)\n",
      " |      Return first index of value.\n",
      " |      \n",
      " |      Raises ValueError if the value is not present.\n",
      " |  \n",
      " |  insert(self, index, object, /)\n",
      " |      Insert object before index.\n",
      " |  \n",
      " |  pop(self, index=-1, /)\n",
      " |      Remove and return item at index (default last).\n",
      " |      \n",
      " |      Raises IndexError if list is empty or index is out of range.\n",
      " |  \n",
      " |  remove(self, value, /)\n",
      " |      Remove first occurrence of value.\n",
      " |      \n",
      " |      Raises ValueError if the value is not present.\n",
      " |  \n",
      " |  reverse(self, /)\n",
      " |      Reverse *IN PLACE*.\n",
      " |  \n",
      " |  sort(self, /, *, key=None, reverse=False)\n",
      " |      Stable sort *IN PLACE*.\n",
      " |  \n",
      " |  ----------------------------------------------------------------------\n",
      " |  Static methods defined here:\n",
      " |  \n",
      " |  __new__(*args, **kwargs) from builtins.type\n",
      " |      Create and return a new object.  See help(type) for accurate signature.\n",
      " |  \n",
      " |  ----------------------------------------------------------------------\n",
      " |  Data and other attributes defined here:\n",
      " |  \n",
      " |  __hash__ = None\n",
      "\n"
     ]
    }
   ],
   "source": [
    "help(list)"
   ]
  },
  {
   "cell_type": "code",
   "execution_count": 106,
   "metadata": {},
   "outputs": [
    {
     "name": "stdout",
     "output_type": "stream",
     "text": [
      "[10, 20, 30, 33, 40, 50, 54, 69, 79]\n"
     ]
    }
   ],
   "source": [
    "l = [10,33,20,54,30,40,50,69,79]\n",
    "l.sort()                                          #it gives ascending order values\n",
    "print(l)"
   ]
  },
  {
   "cell_type": "code",
   "execution_count": 109,
   "metadata": {},
   "outputs": [
    {
     "name": "stdout",
     "output_type": "stream",
     "text": [
      "[79, 69, 54, 50, 40, 33, 30, 20, 10]\n"
     ]
    }
   ],
   "source": [
    " l = [10,33,20,54,30,40,50,69,79]\n",
    "l.sort(reverse = True)                            #it gives descending order values  \n",
    "print(l)"
   ]
  },
  {
   "cell_type": "code",
   "execution_count": null,
   "metadata": {},
   "outputs": [],
   "source": [
    "index\n",
    "count"
   ]
  },
  {
   "cell_type": "code",
   "execution_count": 111,
   "metadata": {},
   "outputs": [
    {
     "name": "stdout",
     "output_type": "stream",
     "text": [
      "3\n",
      "2\n"
     ]
    }
   ],
   "source": [
    "l = [10,20,30,40,50,60,60,70]\n",
    "print(l.index(40))\n",
    "print(l.count(60))"
   ]
  },
  {
   "cell_type": "code",
   "execution_count": 113,
   "metadata": {},
   "outputs": [
    {
     "name": "stdout",
     "output_type": "stream",
     "text": [
      "2741324384264 2741324384264\n",
      "[10, 20, 30, 40]\n"
     ]
    }
   ],
   "source": [
    "#shallow copy\n",
    "l1 = [10,20,30]\n",
    "l2 = l1\n",
    "print(id(l1),id(l2))\n",
    "l1.append(40)\n",
    "print(l2)"
   ]
  },
  {
   "cell_type": "code",
   "execution_count": 114,
   "metadata": {},
   "outputs": [
    {
     "name": "stdout",
     "output_type": "stream",
     "text": [
      "2741324382536 2741324574280\n"
     ]
    }
   ],
   "source": [
    "#deep copy\n",
    "l1 = [1,2,3]\n",
    "l2 = list(l1)\n",
    "print(id(l1),id(l2))"
   ]
  },
  {
   "cell_type": "code",
   "execution_count": 115,
   "metadata": {},
   "outputs": [
    {
     "name": "stdout",
     "output_type": "stream",
     "text": [
      "[1, 2, 3, 4, 5, 10, 20, 30, 40, 50]\n"
     ]
    }
   ],
   "source": [
    "l1 = [1,2,3,4,5]\n",
    "l2 = [10,20,30,40,50]\n",
    "#print(l1 + l2)\n",
    "l3 = l1 + l2\n",
    "print(l3)\n"
   ]
  },
  {
   "cell_type": "code",
   "execution_count": 117,
   "metadata": {},
   "outputs": [
    {
     "name": "stdout",
     "output_type": "stream",
     "text": [
      "[10, 20, 30, 20, 22, 30, 100, 200, 20, 30, 400]\n",
      "[10, 20, 20, 20, 22, 30, 30, 30, 100, 200, 400]\n",
      "[10, 20, 20, 20, 22, 30, 30, 30, 100, 200, 400]\n"
     ]
    }
   ],
   "source": [
    "l1 = [10,20,30,20,22,30]\n",
    "l2 = [100,200,20,30,400]\n",
    "l3 =[]                     #single sorted list which contains only unique elements\n",
    "l1.extend(l2)\n",
    "print(l1)\n",
    "l1.sort()\n",
    "print(l1)\n",
    "for value in l1:\n",
    "    if value in l1:\n",
    "        l3.append(value)\n",
    "print(l3)       "
   ]
  },
  {
   "cell_type": "code",
   "execution_count": null,
   "metadata": {},
   "outputs": [],
   "source": [
    "overview :\n",
    "\n",
    "Methods for Add:\n",
    "    append\n",
    "    extend\n",
    "    insert\n",
    "    \n",
    "Update :\n",
    "    l[index = new_value]\n",
    "    \n",
    "Delete :\n",
    "    pop => index , last element\n",
    "    remove => value\n",
    "    clear\n",
    "    del"
   ]
  }
 ],
 "metadata": {
  "kernelspec": {
   "display_name": "Python 3",
   "language": "python",
   "name": "python3"
  },
  "language_info": {
   "codemirror_mode": {
    "name": "ipython",
    "version": 3
   },
   "file_extension": ".py",
   "mimetype": "text/x-python",
   "name": "python",
   "nbconvert_exporter": "python",
   "pygments_lexer": "ipython3",
   "version": "3.7.4"
  }
 },
 "nbformat": 4,
 "nbformat_minor": 2
}
