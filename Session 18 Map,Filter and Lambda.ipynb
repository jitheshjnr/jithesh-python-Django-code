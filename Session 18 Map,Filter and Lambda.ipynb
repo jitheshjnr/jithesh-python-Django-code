{
 "cells": [
  {
   "cell_type": "code",
   "execution_count": null,
   "metadata": {},
   "outputs": [],
   "source": [
    "l = [expression for var in itrable_datatype filtering condition ]\n",
    "\n",
    "\"output1\" if condition else \"output2\""
   ]
  },
  {
   "cell_type": "code",
   "execution_count": null,
   "metadata": {},
   "outputs": [],
   "source": [
    "map,filter and lambda"
   ]
  },
  {
   "cell_type": "code",
   "execution_count": null,
   "metadata": {},
   "outputs": [],
   "source": [
    "map(fun obj , iterable datatype)"
   ]
  },
  {
   "cell_type": "code",
   "execution_count": 2,
   "metadata": {},
   "outputs": [
    {
     "name": "stdout",
     "output_type": "stream",
     "text": [
      "[100, 400, 900, 1600, 2500]\n"
     ]
    }
   ],
   "source": [
    "l = [10,20,30,40,50]\n",
    "l2 = [value * value for value in l]\n",
    "print(l2)"
   ]
  },
  {
   "cell_type": "code",
   "execution_count": 3,
   "metadata": {},
   "outputs": [
    {
     "name": "stdout",
     "output_type": "stream",
     "text": [
      "[100, 400, 900, 1600]\n"
     ]
    }
   ],
   "source": [
    "def sqr(num1):\n",
    "    return num1 * num1\n",
    "l = [10,20,30,40]\n",
    "r = map(sqr,l)\n",
    "print(list(r))"
   ]
  },
  {
   "cell_type": "code",
   "execution_count": 11,
   "metadata": {},
   "outputs": [
    {
     "name": "stdout",
     "output_type": "stream",
     "text": [
      "100\n",
      "400\n",
      "900\n",
      "1600\n"
     ]
    }
   ],
   "source": [
    "def sqr(num1):\n",
    "    return num1 * num1\n",
    "l = [10,20,30,40]\n",
    "r = map(sqr,l)\n",
    "#print((r))\n",
    "#print(next(r))      #next fun gives the nxt element one after the other\n",
    "#print(next(r))  \n",
    "for value in r:      #or we can use for loop also\n",
    "    print(value)"
   ]
  },
  {
   "cell_type": "code",
   "execution_count": 10,
   "metadata": {},
   "outputs": [
    {
     "name": "stdout",
     "output_type": "stream",
     "text": [
      "<map object at 0x000001A283538848>\n",
      "1.4107805999999528\n"
     ]
    }
   ],
   "source": [
    "import timeit\n",
    "t = timeit.timeit(stmt = \"\"\"\n",
    "def sqr(num1):\n",
    "    return num1 * num1      #here we are using keyword parameter tec\n",
    "r = map(sqr,range(1,10000000))  \n",
    "t = list(r)\n",
    "print(r)\n",
    "\"\"\",number = 1)\n",
    "print(t)         #t=list(r)gives the actual tym"
   ]
  },
  {
   "cell_type": "code",
   "execution_count": 12,
   "metadata": {},
   "outputs": [
    {
     "name": "stdout",
     "output_type": "stream",
     "text": [
      "[4, 5, 5]\n"
     ]
    }
   ],
   "source": [
    "l = [\"abcd\",\"efghi\",\"jklmn\"]\n",
    "m = map(len,l)\n",
    "print(list(m))"
   ]
  },
  {
   "cell_type": "code",
   "execution_count": 13,
   "metadata": {},
   "outputs": [
    {
     "name": "stdout",
     "output_type": "stream",
     "text": [
      "[111, 222, 333]\n"
     ]
    }
   ],
   "source": [
    "def add (num1,num2,num3):\n",
    "    return num1 + num2 + num3\n",
    "l1 = [10,20,30]\n",
    "l2 = [1,2,3]\n",
    "l3 = [100,200,300]\n",
    "m = map(add,l1,l2,l3)\n",
    "print(list(m))"
   ]
  },
  {
   "cell_type": "code",
   "execution_count": null,
   "metadata": {},
   "outputs": [],
   "source": [
    " filter"
   ]
  },
  {
   "cell_type": "code",
   "execution_count": 3,
   "metadata": {},
   "outputs": [
    {
     "name": "stdout",
     "output_type": "stream",
     "text": [
      "[True, True, True, True, True]\n"
     ]
    }
   ],
   "source": [
    "def even (num1):\n",
    "    if num1 % 2 == 0:\n",
    "        return True\n",
    "    else:\n",
    "        return False\n",
    "l = [10,20,30,40,50]\n",
    "#f = filter(even,l)\n",
    "f = map(even,l)\n",
    "print(list(f))"
   ]
  },
  {
   "cell_type": "code",
   "execution_count": 4,
   "metadata": {},
   "outputs": [
    {
     "name": "stdout",
     "output_type": "stream",
     "text": [
      "['ad', 'ei', 'jn']\n"
     ]
    }
   ],
   "source": [
    "def get_char(val1):\n",
    "    return val1 [0] + val1[-1]\n",
    "\n",
    "l = [\"abcd\",\"efghi\",\"jklmn\"]\n",
    "m = map(get_char,l)\n",
    "print(list(m))"
   ]
  },
  {
   "cell_type": "code",
   "execution_count": null,
   "metadata": {},
   "outputs": [],
   "source": [
    "l = [6,45,28,12,35,89]"
   ]
  },
  {
   "cell_type": "code",
   "execution_count": null,
   "metadata": {},
   "outputs": [],
   "source": [
    "prefect_no : 6 : 1 + 2 + 3 = 6"
   ]
  },
  {
   "cell_type": "code",
   "execution_count": 14,
   "metadata": {},
   "outputs": [
    {
     "data": {
      "text/plain": [
       "False"
      ]
     },
     "execution_count": 14,
     "metadata": {},
     "output_type": "execute_result"
    }
   ],
   "source": [
    "def perfect(num1):\n",
    "    sum = 0\n",
    "    for value in range (1,num1//2 + 1):\n",
    "        if num1 % value == 0:\n",
    "            sum += value\n",
    "        if sum == num1:\n",
    "            return True\n",
    "        else:\n",
    "            return False\n",
    "num1 = 6 \n",
    "perfect(num1)"
   ]
  },
  {
   "cell_type": "code",
   "execution_count": null,
   "metadata": {},
   "outputs": [],
   "source": [
    "lambda func:"
   ]
  },
  {
   "cell_type": "code",
   "execution_count": null,
   "metadata": {},
   "outputs": [],
   "source": [
    "def add()\n",
    "\n",
    "add()"
   ]
  },
  {
   "cell_type": "code",
   "execution_count": null,
   "metadata": {},
   "outputs": [],
   "source": [
    "lambda arg1,arg2,arg3:single expression"
   ]
  },
  {
   "cell_type": "code",
   "execution_count": 15,
   "metadata": {},
   "outputs": [
    {
     "name": "stdout",
     "output_type": "stream",
     "text": [
      "[100, 400, 900, 1600, 2500]\n"
     ]
    }
   ],
   "source": [
    "l = [10,20,30,40,50]\n",
    "r = map(lambda num1 : num1*num1,l)\n",
    "print(list(r))"
   ]
  },
  {
   "cell_type": "code",
   "execution_count": 16,
   "metadata": {},
   "outputs": [
    {
     "name": "stdout",
     "output_type": "stream",
     "text": [
      "[111, 222, 333]\n"
     ]
    }
   ],
   "source": [
    "l1 = [1,2,3]\n",
    "l2 = [100,200,300]\n",
    "l3 = [10,20,30]\n",
    "r = map(lambda num1,num2,num3:num1 + num2 + num3 ,l1,l2,l3)\n",
    "print(list(r))"
   ]
  },
  {
   "cell_type": "code",
   "execution_count": 17,
   "metadata": {},
   "outputs": [
    {
     "name": "stdout",
     "output_type": "stream",
     "text": [
      "['ad', 'ei', 'jn']\n"
     ]
    }
   ],
   "source": [
    "def get_char(val1):\n",
    "    return val1 [0] + val1[-1]\n",
    "\n",
    "l = [\"abcd\",\"efghi\",\"jklmn\"]\n",
    "m = map(get_char,l)\n",
    "print(list(m))"
   ]
  },
  {
   "cell_type": "code",
   "execution_count": null,
   "metadata": {},
   "outputs": [],
   "source": [
    "def even (num1):\n",
    "    if num1 % 2 == 0:\n",
    "        return True\n",
    "    else:\n",
    "        return False\n",
    "l = [10,20,30,40,50]\n",
    "f = map(even,l)\n",
    "print(list(f))"
   ]
  },
  {
   "cell_type": "code",
   "execution_count": 20,
   "metadata": {},
   "outputs": [
    {
     "name": "stdout",
     "output_type": "stream",
     "text": [
      "[10, 20, 30, 40, 50]\n"
     ]
    }
   ],
   "source": [
    "l = [10,20,30,40,50]\n",
    "f = filter(lambda num1: num1%2 == 0,l)\n",
    "print(list(f))"
   ]
  },
  {
   "cell_type": "code",
   "execution_count": 23,
   "metadata": {},
   "outputs": [
    {
     "name": "stdout",
     "output_type": "stream",
     "text": [
      "[(10, 50), (20, 40), (30, 30), (40, 20), (50, 10)]\n"
     ]
    }
   ],
   "source": [
    "d = {10:50,20:40,30:30,40:20,50:10}\n",
    "print(sorted(d.items()))"
   ]
  },
  {
   "cell_type": "code",
   "execution_count": null,
   "metadata": {},
   "outputs": [],
   "source": [
    "r = map(fun obj,iterable) => map obj\n",
    " \n",
    "1.list\n",
    "2.next\n",
    "3.for\n",
    "\n",
    "filter(fun obj,iterable) => filter obj\n",
    "\n",
    "lambda arg1,arg2,arg3:statements\n",
    "    "
   ]
  },
  {
   "cell_type": "code",
   "execution_count": null,
   "metadata": {},
   "outputs": [],
   "source": []
  }
 ],
 "metadata": {
  "kernelspec": {
   "display_name": "Python 3",
   "language": "python",
   "name": "python3"
  },
  "language_info": {
   "codemirror_mode": {
    "name": "ipython",
    "version": 3
   },
   "file_extension": ".py",
   "mimetype": "text/x-python",
   "name": "python",
   "nbconvert_exporter": "python",
   "pygments_lexer": "ipython3",
   "version": "3.7.4"
  }
 },
 "nbformat": 4,
 "nbformat_minor": 2
}
