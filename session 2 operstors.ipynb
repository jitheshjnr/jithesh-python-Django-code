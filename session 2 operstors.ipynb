{
 "cells": [
  {
   "cell_type": "code",
   "execution_count": 1,
   "metadata": {},
   "outputs": [
    {
     "name": "stdout",
     "output_type": "stream",
     "text": [
      "1\n"
     ]
    }
   ],
   "source": [
    "num1 = 1 \n",
    "print(num1)"
   ]
  },
  {
   "cell_type": "code",
   "execution_count": 2,
   "metadata": {},
   "outputs": [
    {
     "name": "stdout",
     "output_type": "stream",
     "text": [
      "jithu\n"
     ]
    }
   ],
   "source": [
    "num1 =\"jithu\"\n",
    "print(num1)"
   ]
  },
  {
   "cell_type": "code",
   "execution_count": 2,
   "metadata": {},
   "outputs": [
    {
     "name": "stdout",
     "output_type": "stream",
     "text": [
      "jithu\n"
     ]
    }
   ],
   "source": [
    "name = \"jithu\"\n",
    "print(name)"
   ]
  },
  {
   "cell_type": "code",
   "execution_count": null,
   "metadata": {},
   "outputs": [],
   "source": [
    "Datatypes :\n",
    "    1. int 10 20 30\n",
    "    2. float 10.235 27.367\n",
    "    3. str 'hi' \"python\" \"\"\"wleocme to python\"\"\" : It is the collection of Characters\n",
    "    4. list [10,20,30,40][10,20,30,\"python\",\"java\"[10,20,3,3,0]] : collection of elements , str or integers\n",
    "    5. tuple (10,20,30,40,\"python\",\"java\") : collection of elements and elements can be anything\n",
    "    6. dict {\"email\":\"gagangowdru8506@gmail.com\",\"contact\":\"1234567890\",\"age\":\"76\"} : collection of key and value\n",
    "    7. set {10,20,30,40} : collection of elements\n",
    "    8. bool True False\n",
    "    None"
   ]
  },
  {
   "cell_type": "code",
   "execution_count": null,
   "metadata": {},
   "outputs": [],
   "source": [
    "PEP 8 => guidelines about how ur python code should look (python extension proposal)"
   ]
  },
  {
   "cell_type": "code",
   "execution_count": null,
   "metadata": {},
   "outputs": [],
   "source": [
    "Python allows only one special character i.e, _(under_score)"
   ]
  },
  {
   "cell_type": "code",
   "execution_count": null,
   "metadata": {},
   "outputs": [],
   "source": [
    "* Always give a meaningful variable names\n",
    "1. underscore first_name\n",
    "2. for variable name it should be with lower_case alphabet\n",
    "3. for constant all CAPS\n",
    "4. digits are allowed but not at the start , only special character allowed is _"
   ]
  },
  {
   "cell_type": "code",
   "execution_count": null,
   "metadata": {},
   "outputs": [],
   "source": [
    "Memory Loaction :\n",
    "    1. Immutable : at same memory lopcation I can not change the value\n",
    "    2. Mutable : I can change the value at same memory location"
   ]
  },
  {
   "cell_type": "code",
   "execution_count": null,
   "metadata": {},
   "outputs": [],
   "source": [
    "Mutable : Add , Update and Delete operations\n",
    "Immutable : Can not perform add , update and delete"
   ]
  },
  {
   "cell_type": "code",
   "execution_count": null,
   "metadata": {},
   "outputs": [],
   "source": [
    "Immutable :\n",
    "    int\n",
    "    float\n",
    "    str\n",
    "    tuple\n",
    "    \n",
    "Mutable : (Add,Update and Delete)\n",
    "    list\n",
    "    dict\n",
    "    set"
   ]
  },
  {
   "cell_type": "code",
   "execution_count": null,
   "metadata": {},
   "outputs": [],
   "source": [
    "Operators :\n",
    "    1. Arthmetic Operators :\n",
    "        + => Addition\n",
    "        - => Substraction\n",
    "        * => Multiplication\n",
    "        / => true division (because it gives true value with decimals)\n",
    "        // => floor division (it gives values without decimals)\n",
    "        % => Modules (gives remainder)\n",
    "        ** => powers\n",
    "    2. Comparision Operators : It always gives us the answer is True or False\n",
    "        == , < , > , <= , >= , !=\n",
    "    3. Membership Operators : in not in (This is only used in Iterable and cant be used in not Iterable) \n",
    "        incase of dictionary in/not in will only check with keys , will not check with the values\n",
    "    4.Identity Operator : is is not\n",
    "    5.Assignment Operator : = , += , -= , *=  , /=\n",
    "    6.Logical Operator : and or not"
   ]
  },
  {
   "cell_type": "code",
   "execution_count": 1,
   "metadata": {},
   "outputs": [
    {
     "name": "stdout",
     "output_type": "stream",
     "text": [
      "3.3333333333333335\n",
      "3\n",
      "1\n",
      "30\n",
      "13\n",
      "7\n",
      "1000\n"
     ]
    }
   ],
   "source": [
    "print(10 / 3)\n",
    "print(10 // 3)\n",
    "print(10 % 3)\n",
    "print(10 * 3)\n",
    "print(10 + 3)\n",
    "print(10 - 3)\n",
    "print(10 ** 3)"
   ]
  },
  {
   "cell_type": "code",
   "execution_count": 2,
   "metadata": {},
   "outputs": [
    {
     "name": "stdout",
     "output_type": "stream",
     "text": [
      "False\n",
      "True\n",
      "False\n",
      "True\n",
      "False\n"
     ]
    }
   ],
   "source": [
    "s1 = \"Python\"\n",
    "s2 = \"python\"\n",
    "print(s1 == s2)\n",
    "s1 = 10\n",
    "s2 = 5\n",
    "print(s1 > s2)\n",
    "print(s1 < s2)\n",
    "print(s1 >= s2)\n",
    "print(s1 <= s2)"
   ]
  },
  {
   "cell_type": "code",
   "execution_count": null,
   "metadata": {},
   "outputs": [],
   "source": [
    "Not Iterable :\n",
    "    int , float\n",
    "Iterable : Means collection values\n",
    "    str , tuple , list , dict , set"
   ]
  },
  {
   "cell_type": "code",
   "execution_count": null,
   "metadata": {},
   "outputs": [],
   "source": [
    "== => values\n",
    "is => memory allocation"
   ]
  },
  {
   "cell_type": "code",
   "execution_count": null,
   "metadata": {},
   "outputs": [],
   "source": [
    "True/False :\n",
    "    Comparsion\n",
    "    Membership\n",
    "    Logical\n",
    "    Identity"
   ]
  },
  {
   "cell_type": "code",
   "execution_count": null,
   "metadata": {},
   "outputs": [],
   "source": [
    "immutable : cant change the value with different memory location\n",
    "    int\n",
    "    float\n",
    "    tuple\n",
    "mutable :\n",
    "    list dict set"
   ]
  },
  {
   "cell_type": "code",
   "execution_count": null,
   "metadata": {},
   "outputs": [],
   "source": [
    "Iterable :\n",
    "    str list dict set tuple\n",
    "not iterable :\n",
    "    int float"
   ]
  },
  {
   "cell_type": "code",
   "execution_count": null,
   "metadata": {},
   "outputs": [],
   "source": [
    "in operator not work with int , float and works with dict only in terms of keys not values"
   ]
  },
  {
   "cell_type": "code",
   "execution_count": 4,
   "metadata": {},
   "outputs": [
    {
     "name": "stdout",
     "output_type": "stream",
     "text": [
      "2.02222224\n"
     ]
    }
   ],
   "source": [
    "float = 2.02222224\n",
    "print(float)"
   ]
  },
  {
   "cell_type": "code",
   "execution_count": 5,
   "metadata": {},
   "outputs": [
    {
     "name": "stdout",
     "output_type": "stream",
     "text": [
      "[1, 2, 3, 4, 5, 6, 7, 8, 9, 10]\n"
     ]
    }
   ],
   "source": [
    "list = [1,2,3,4,5,6,7,8,9,10]\n",
    "print(list)"
   ]
  },
  {
   "cell_type": "code",
   "execution_count": 6,
   "metadata": {},
   "outputs": [
    {
     "name": "stdout",
     "output_type": "stream",
     "text": [
      "{'name': 'jithesh', 'e mail': 'jitheshjnr1997@gmail.com', 'contact': '8970974185', 'age': '57', 'address': 'bgh'}\n"
     ]
    }
   ],
   "source": [
    "dict = {\"name\":\"jithesh\",\"e mail\":\"jitheshjnr1997@gmail.com\",\"contact\":\"8970974185\",\"age\":\"57\",\"address\":\"bgh\"}\n",
    "print(dict)"
   ]
  },
  {
   "cell_type": "code",
   "execution_count": 7,
   "metadata": {},
   "outputs": [
    {
     "name": "stdout",
     "output_type": "stream",
     "text": [
      "{'name': 'jithesh', 'e mali': 'jnr@gmail.com', 'contact': 8970974185, 'age': 57, 'address': 'bgh'}\n"
     ]
    }
   ],
   "source": [
    "dict = {\"name\":\"jithesh\",\"e mali\":\"jnr@gmail.com\",\"contact\":8970974185,\"age\":57,\"address\":\"bgh\"}\n",
    "print(dict)"
   ]
  },
  {
   "cell_type": "code",
   "execution_count": 14,
   "metadata": {},
   "outputs": [
    {
     "ename": "NameError",
     "evalue": "name 'hello_world' is not defined",
     "output_type": "error",
     "traceback": [
      "\u001b[1;31m---------------------------------------------------------------------------\u001b[0m",
      "\u001b[1;31mNameError\u001b[0m                                 Traceback (most recent call last)",
      "\u001b[1;32m<ipython-input-14-b65d828808f2>\u001b[0m in \u001b[0;36m<module>\u001b[1;34m\u001b[0m\n\u001b[1;32m----> 1\u001b[1;33m \u001b[0mname\u001b[0m \u001b[1;33m=\u001b[0m \u001b[0mhello_world\u001b[0m\u001b[1;33m\u001b[0m\u001b[1;33m\u001b[0m\u001b[0m\n\u001b[0m\u001b[0;32m      2\u001b[0m \u001b[0mprint\u001b[0m\u001b[1;33m(\u001b[0m\u001b[0mname\u001b[0m\u001b[1;33m)\u001b[0m\u001b[1;33m\u001b[0m\u001b[1;33m\u001b[0m\u001b[0m\n",
      "\u001b[1;31mNameError\u001b[0m: name 'hello_world' is not defined"
     ]
    }
   ],
   "source": [
    "name = hello_world\n",
    "print(name)"
   ]
  },
  {
   "cell_type": "code",
   "execution_count": 16,
   "metadata": {},
   "outputs": [
    {
     "name": "stdout",
     "output_type": "stream",
     "text": [
      "hello_world\n"
     ]
    }
   ],
   "source": [
    "name = \"hello_world\"\n",
    "print(name)"
   ]
  },
  {
   "cell_type": "code",
   "execution_count": 17,
   "metadata": {},
   "outputs": [
    {
     "name": "stdout",
     "output_type": "stream",
     "text": [
      "{12, 13, 14, 15}\n"
     ]
    }
   ],
   "source": [
    "set = {12,13,14,15}\n",
    "print(set)"
   ]
  },
  {
   "cell_type": "code",
   "execution_count": 18,
   "metadata": {},
   "outputs": [
    {
     "name": "stdout",
     "output_type": "stream",
     "text": [
      "(1, 2, 3, 4)\n"
     ]
    }
   ],
   "source": [
    "tuple = (1,2,3,4)\n",
    "print(tuple)"
   ]
  },
  {
   "cell_type": "code",
   "execution_count": 20,
   "metadata": {},
   "outputs": [
    {
     "name": "stdout",
     "output_type": "stream",
     "text": [
      "('jithesh', 'gagan', 'ram')\n"
     ]
    }
   ],
   "source": [
    "tuple = (\"jithesh\",\"gagan\",\"ram\")\n",
    "print(tuple)"
   ]
  },
  {
   "cell_type": "code",
   "execution_count": 21,
   "metadata": {},
   "outputs": [
    {
     "name": "stdout",
     "output_type": "stream",
     "text": [
      "True\n"
     ]
    }
   ],
   "source": [
    "bool = [10,20,30]\n",
    "print(20 in bool)"
   ]
  },
  {
   "cell_type": "code",
   "execution_count": 22,
   "metadata": {},
   "outputs": [
    {
     "name": "stdout",
     "output_type": "stream",
     "text": [
      "False\n"
     ]
    }
   ],
   "source": [
    "bool = [10,20,30]\n",
    "print(50 in bool)"
   ]
  },
  {
   "cell_type": "code",
   "execution_count": null,
   "metadata": {},
   "outputs": [],
   "source": [
    "                            #finding the type of the data#"
   ]
  },
  {
   "cell_type": "code",
   "execution_count": 23,
   "metadata": {},
   "outputs": [
    {
     "name": "stdout",
     "output_type": "stream",
     "text": [
      "<class 'int'>\n"
     ]
    }
   ],
   "source": [
    "s = 12\n",
    "print(type(s))"
   ]
  },
  {
   "cell_type": "code",
   "execution_count": 24,
   "metadata": {},
   "outputs": [
    {
     "name": "stdout",
     "output_type": "stream",
     "text": [
      "<class 'str'>\n"
     ]
    }
   ],
   "source": [
    "s = \"jithu\"\n",
    "print(type(s))"
   ]
  },
  {
   "cell_type": "code",
   "execution_count": 25,
   "metadata": {},
   "outputs": [
    {
     "name": "stdout",
     "output_type": "stream",
     "text": [
      "<class 'list'>\n"
     ]
    }
   ],
   "source": [
    "list = [12,32]\n",
    "print(type(set))"
   ]
  },
  {
   "cell_type": "code",
   "execution_count": 27,
   "metadata": {},
   "outputs": [
    {
     "name": "stdout",
     "output_type": "stream",
     "text": [
      "<class 'dict'>\n"
     ]
    }
   ],
   "source": [
    "dict = {\"contact\":\"8970974185\"}\n",
    "print(type(dict))"
   ]
  },
  {
   "cell_type": "code",
   "execution_count": 28,
   "metadata": {},
   "outputs": [
    {
     "name": "stdout",
     "output_type": "stream",
     "text": [
      "<class 'tuple'>\n"
     ]
    }
   ],
   "source": [
    "tuple = (1,2,3)\n",
    "print(type(tuple))"
   ]
  },
  {
   "cell_type": "code",
   "execution_count": 30,
   "metadata": {},
   "outputs": [
    {
     "name": "stdout",
     "output_type": "stream",
     "text": [
      "<class 'set'>\n"
     ]
    }
   ],
   "source": [
    "s = {1,2,3}\n",
    "print(type(s))"
   ]
  },
  {
   "cell_type": "code",
   "execution_count": 31,
   "metadata": {},
   "outputs": [
    {
     "name": "stdout",
     "output_type": "stream",
     "text": [
      "<class 'float'>\n"
     ]
    }
   ],
   "source": [
    "f = 2.34\n",
    "print(type(f))"
   ]
  },
  {
   "cell_type": "code",
   "execution_count": 35,
   "metadata": {},
   "outputs": [
    {
     "name": "stdout",
     "output_type": "stream",
     "text": [
      "True\n",
      "<class 'list'>\n"
     ]
    }
   ],
   "source": [
    "b = [10,20,30]\n",
    "print(10 in b)\n",
    "print(type(b))"
   ]
  },
  {
   "cell_type": "code",
   "execution_count": null,
   "metadata": {},
   "outputs": [],
   "source": [
    "                #data ID#"
   ]
  },
  {
   "cell_type": "code",
   "execution_count": 4,
   "metadata": {},
   "outputs": [
    {
     "name": "stdout",
     "output_type": "stream",
     "text": [
      "700\n",
      "2119389774416\n"
     ]
    }
   ],
   "source": [
    "num1 = 300\n",
    "num2 = 400  \n",
    "num3 = num1 + num2\n",
    "print(num3)\n",
    "print(id(num3))\n"
   ]
  },
  {
   "cell_type": "code",
   "execution_count": null,
   "metadata": {},
   "outputs": [],
   "source": [
    "               #artmamatic operation#"
   ]
  },
  {
   "cell_type": "code",
   "execution_count": null,
   "metadata": {},
   "outputs": [],
   "source": []
  },
  {
   "cell_type": "code",
   "execution_count": 1,
   "metadata": {},
   "outputs": [
    {
     "name": "stdout",
     "output_type": "stream",
     "text": [
      "700\n"
     ]
    }
   ],
   "source": [
    "num1 = 300\n",
    "num2 = 400  \n",
    "num3 = num1 + num2\n",
    "print(num3)"
   ]
  },
  {
   "cell_type": "code",
   "execution_count": 2,
   "metadata": {},
   "outputs": [
    {
     "name": "stdout",
     "output_type": "stream",
     "text": [
      "40000\n"
     ]
    }
   ],
   "source": [
    "num1 = 200\n",
    "num2 = 200\n",
    "num3 = num1 * num2 \n",
    "print(num3)"
   ]
  },
  {
   "cell_type": "code",
   "execution_count": 3,
   "metadata": {},
   "outputs": [
    {
     "name": "stdout",
     "output_type": "stream",
     "text": [
      "-20\n"
     ]
    }
   ],
   "source": [
    "num1 = 20\n",
    "num2 = 40\n",
    "num3 = num1 - num2\n",
    "print(num3)"
   ]
  },
  {
   "cell_type": "code",
   "execution_count": 4,
   "metadata": {},
   "outputs": [
    {
     "name": "stdout",
     "output_type": "stream",
     "text": [
      "0.6\n"
     ]
    }
   ],
   "source": [
    "num1 = 30\n",
    "num2 = 50 \n",
    "num3 = num1 / num2\n",
    "print(num3)"
   ]
  },
  {
   "cell_type": "code",
   "execution_count": 13,
   "metadata": {},
   "outputs": [
    {
     "name": "stdout",
     "output_type": "stream",
     "text": [
      "0\n"
     ]
    }
   ],
   "source": [
    "num1 = 20\n",
    "num2 = 20\n",
    "num3 = num1 % num2\n",
    "print(num3)"
   ]
  },
  {
   "cell_type": "code",
   "execution_count": 14,
   "metadata": {},
   "outputs": [
    {
     "name": "stdout",
     "output_type": "stream",
     "text": [
      "128\n"
     ]
    }
   ],
   "source": [
    "num1 = 2\n",
    "num2 = 7\n",
    "num3 = num1 ** num2\n",
    "print(num3)"
   ]
  },
  {
   "cell_type": "code",
   "execution_count": 7,
   "metadata": {},
   "outputs": [
    {
     "name": "stdout",
     "output_type": "stream",
     "text": [
      "10000000000\n"
     ]
    }
   ],
   "source": [
    "num1 = 10\n",
    "print(num1 ** 10)"
   ]
  }
 ],
 "metadata": {
  "kernelspec": {
   "display_name": "Python 3",
   "language": "python",
   "name": "python3"
  },
  "language_info": {
   "codemirror_mode": {
    "name": "ipython",
    "version": 3
   },
   "file_extension": ".py",
   "mimetype": "text/x-python",
   "name": "python",
   "nbconvert_exporter": "python",
   "pygments_lexer": "ipython3",
   "version": "3.7.4"
  }
 },
 "nbformat": 4,
 "nbformat_minor": 2
}
